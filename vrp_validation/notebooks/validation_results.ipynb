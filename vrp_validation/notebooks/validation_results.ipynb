{
 "cells": [
  {
   "cell_type": "markdown",
   "metadata": {},
   "source": [
    "# VRP Validation Pipeline Results\n",
    "\n",
    "This notebook runs the full end-to-end validation pipeline for the VRP project. It covers:\n",
    "1.  **Synthetic Data Generation**: Creates realistic datasets for customers, vehicles, and historical deliveries.\n",
    "2.  **ML Model Training**: Trains and validates models to predict travel time and customer availability.\n",
    "3.  **Optimization**: Formulates and solves the VRP using the ML predictions.\n",
    "4.  **Analysis & Reporting**: Generates a final report with metrics, visualizations, and recommendations."
   ]
  },
  {
   "cell_type": "code",
   "execution_count": 1,
   "metadata": {
    "execution": {
     "iopub.execute_input": "2025-09-29T10:40:05.674894Z",
     "iopub.status.busy": "2025-09-29T10:40:05.674477Z",
     "iopub.status.idle": "2025-09-29T10:40:07.815612Z",
     "shell.execute_reply": "2025-09-29T10:40:07.814553Z"
    }
   },
   "outputs": [
    {
     "name": "stdout",
     "output_type": "stream",
     "text": [
      "Setup complete. All modules and configuration loaded.\n"
     ]
    }
   ],
   "source": [
    "import os\n",
    "import sys\n",
    "import yaml\n",
    "import pandas as pd\n",
    "from IPython.display import display, Markdown\n",
    "\n",
    "# Add src to path to allow imports\n",
    "project_root = os.path.abspath(os.path.join(os.getcwd(), '..'))\n",
    "src_path = os.path.join(project_root, 'src')\n",
    "if src_path not in sys.path:\n",
    "    sys.path.insert(0, src_path)\n",
    "\n",
    "from data_generator import SyntheticDataGenerator\n",
    "from ml_pipeline import VRPPredictor\n",
    "from optimization_model import VRPOptimizer\n",
    "from analysis_dashboard import ValidationDashboard\n",
    "\n",
    "# Load config\n",
    "config_path = os.path.join(project_root, 'config', 'validation_config.yaml')\n",
    "with open(config_path, 'r') as f:\n",
    "    config = yaml.safe_load(f)\n",
    "\n",
    "print(\"Setup complete. All modules and configuration loaded.\")"
   ]
  },
  {
   "cell_type": "markdown",
   "metadata": {},
   "source": [
    "## Step 1: Generate Synthetic Data"
   ]
  },
  {
   "cell_type": "code",
   "execution_count": 2,
   "metadata": {
    "execution": {
     "iopub.execute_input": "2025-09-29T10:40:07.903220Z",
     "iopub.status.busy": "2025-09-29T10:40:07.902675Z",
     "iopub.status.idle": "2025-09-29T10:40:08.644170Z",
     "shell.execute_reply": "2025-09-29T10:40:08.642850Z"
    }
   },
   "outputs": [
    {
     "name": "stdout",
     "output_type": "stream",
     "text": [
      "Generated 50 customers.\n",
      "Generated 3 vehicles.\n",
      "Generated 1457 historical deliveries.\n",
      "Data generated in /app/vrp_validation/data/synthetic\n"
     ]
    }
   ],
   "source": [
    "data_dir = os.path.join(project_root, 'data', 'synthetic')\n",
    "os.makedirs(data_dir, exist_ok=True)\n",
    "\n",
    "generator = SyntheticDataGenerator(config)\n",
    "generator.generate_all(data_dir)\n",
    "\n",
    "print(f\"Data generated in {data_dir}\")"
   ]
  },
  {
   "cell_type": "markdown",
   "metadata": {},
   "source": [
    "## Step 2: Train and Validate ML Models"
   ]
  },
  {
   "cell_type": "code",
   "execution_count": 3,
   "metadata": {
    "execution": {
     "iopub.execute_input": "2025-09-29T10:40:08.647719Z",
     "iopub.status.busy": "2025-09-29T10:40:08.647367Z",
     "iopub.status.idle": "2025-09-29T10:40:09.521571Z",
     "shell.execute_reply": "2025-09-29T10:40:09.520460Z"
    }
   },
   "outputs": [
    {
     "name": "stdout",
     "output_type": "stream",
     "text": [
      "Training travel time prediction model...\n"
     ]
    },
    {
     "name": "stdout",
     "output_type": "stream",
     "text": [
      "Training customer availability prediction model...\n"
     ]
    },
    {
     "name": "stdout",
     "output_type": "stream",
     "text": [
      "Models trained successfully.\n",
      "\n",
      "Validating models...\n",
      "Validation complete. Metrics:\n",
      "- travel_time_mae: 3.6296\n",
      "- travel_time_r2: 0.9235\n",
      "- availability_auc: 0.5282\n",
      "- availability_accuracy: 0.5205\n"
     ]
    }
   ],
   "source": [
    "historical_data_path = os.path.join(data_dir, 'historical_deliveries.csv')\n",
    "historical_data = pd.read_csv(historical_data_path)\n",
    "\n",
    "predictor = VRPPredictor(config)\n",
    "ml_metrics = predictor.train_and_validate(historical_data)\n"
   ]
  },
  {
   "cell_type": "markdown",
   "metadata": {},
   "source": [
    "## Step 3: Formulate and Solve the VRP"
   ]
  },
  {
   "cell_type": "code",
   "execution_count": 4,
   "metadata": {
    "execution": {
     "iopub.execute_input": "2025-09-29T10:40:09.525619Z",
     "iopub.status.busy": "2025-09-29T10:40:09.525266Z",
     "iopub.status.idle": "2025-09-29T10:40:10.910370Z",
     "shell.execute_reply": "2025-09-29T10:40:10.909151Z"
    }
   },
   "outputs": [
    {
     "name": "stdout",
     "output_type": "stream",
     "text": [
      "Formulating MILP model...\n"
     ]
    },
    {
     "name": "stdout",
     "output_type": "stream",
     "text": [
      "MILP model formulated.\n",
      "\n",
      "Solving with PULP_CBC_CMD...\n",
      "Welcome to the CBC MILP Solver \n",
      "Version: 2.10.3 \n",
      "Build Date: Dec 15 2019 \n",
      "\n",
      "command line - /home/jules/.pyenv/versions/3.12.11/lib/python3.12/site-packages/pulp/apis/../solverdir/cbc/linux/i64/cbc /tmp/dca4faa254d443f48b131531b110066e-pulp.mps -sec 600 -timeMode elapsed -branch -printingOptions all -solution /tmp/dca4faa254d443f48b131531b110066e-pulp.sol (default strategy 1)\n",
      "At line 2 NAME          MODEL\n",
      "At line 3 ROWS\n",
      "At line 407 COLUMNS\n",
      "At line 3851 RHS\n",
      "At line 4254 BOUNDS\n",
      "At line 4615 ENDATA\n",
      "Problem MODEL has 402 rows, 374 columns and 2333 elements\n",
      "Coin0008I MODEL read with 0 errors\n",
      "seconds was changed from 1e+100 to 600\n",
      "Option for timeMode changed from cpu to elapsed\n",
      "Continuous objective value is 682.38 - 0.00 seconds\n",
      "Cgl0000I Cut generators found to be infeasible! (or unbounded)\n",
      "Pre-processing says infeasible or unbounded\n",
      "Option for printingOptions changed from normal to all\n",
      "Total time (CPU seconds):       0.01   (Wallclock seconds):       0.01\n",
      "\n",
      "Solver status: Infeasible\n"
     ]
    }
   ],
   "source": [
    "customers = pd.read_csv(os.path.join(data_dir, 'customers.csv'))\n",
    "vehicles = pd.read_csv(os.path.join(data_dir, 'vehicles.csv'))\n",
    "\n",
    "# Use a smaller subset of customers for the optimization run to ensure it's fast\n",
    "customers_subset = customers.head(10)\n",
    "\n",
    "optimizer = VRPOptimizer(config)\n",
    "optimizer.formulate_milp(customers_subset, vehicles, predictor)\n",
    "opt_metrics = optimizer.solve()"
   ]
  },
  {
   "cell_type": "markdown",
   "metadata": {},
   "source": [
    "## Step 4: Generate Analysis Dashboard"
   ]
  },
  {
   "cell_type": "code",
   "execution_count": 5,
   "metadata": {
    "execution": {
     "iopub.execute_input": "2025-09-29T10:40:10.913630Z",
     "iopub.status.busy": "2025-09-29T10:40:10.913291Z",
     "iopub.status.idle": "2025-09-29T10:40:11.589523Z",
     "shell.execute_reply": "2025-09-29T10:40:11.588464Z"
    }
   },
   "outputs": [
    {
     "name": "stdout",
     "output_type": "stream",
     "text": [
      "\n",
      "Full report generated at: /app/vrp_validation/data/results/validation_report.md\n"
     ]
    }
   ],
   "source": [
    "dashboard = ValidationDashboard(\n",
    "    config=config,\n",
    "    ml_metrics=ml_metrics,\n",
    "    opt_metrics=opt_metrics,\n",
    "    ml_predictor=predictor,\n",
    "    customers=customers_subset,\n",
    "    solution_routes=None # In a real scenario, we would extract and pass this\n",
    ")\n",
    "\n",
    "report_path = dashboard.generate_full_report()"
   ]
  },
  {
   "cell_type": "markdown",
   "metadata": {},
   "source": [
    "## Step 5: Display Final Report"
   ]
  },
  {
   "cell_type": "code",
   "execution_count": 6,
   "metadata": {
    "execution": {
     "iopub.execute_input": "2025-09-29T10:40:11.593111Z",
     "iopub.status.busy": "2025-09-29T10:40:11.592784Z",
     "iopub.status.idle": "2025-09-29T10:40:11.601926Z",
     "shell.execute_reply": "2025-09-29T10:40:11.600524Z"
    }
   },
   "outputs": [
    {
     "data": {
      "text/markdown": [
       "# VRP Validation Report\n",
       "\n",
       "## 1. Executive Summary\n",
       "WARNING: The pipeline ran successfully, but the optimization problem was INFEASIBLE. This suggests conflicting constraints (e.g., time windows, capacity).\n",
       "- High R^2 score for travel time prediction (>0.9) suggests the synthetic data might be too predictable.\n",
       "- Low AUC score for availability prediction (0.528) indicates the model is not learning effectively. This is a RED FLAG.\n",
       "\n",
       "## 2. ML Performance Analysis\n",
       "- travel_time_mae: 3.6296\n",
       "- travel_time_r2: 0.9235\n",
       "- availability_auc: 0.5282\n",
       "- availability_accuracy: 0.5205\n",
       "![ML Performance](ml_performance.png)\n",
       "![Feature Importance](feature_importance.png)\n",
       "\n",
       "## 3. Optimization Performance Analysis\n",
       "- solver_status: Infeasible\n",
       "- total_cost: 682.379842837847\n",
       "\n",
       "## 4. Recommendations\n",
       "- **Proceed with Caution**. The pipeline is technically functional, but the results show significant weaknesses.\n",
       "- **Revisit Data Generation**: The availability model's failure and the travel model's high performance suggest the synthetic data needs more complexity and noise.\n",
       "- **Feature Engineering**: More complex features are needed for the availability model.\n",
       "- **Constraint Analysis**: The 'Infeasible' result requires analyzing which constraints are too tight."
      ],
      "text/plain": [
       "<IPython.core.display.Markdown object>"
      ]
     },
     "metadata": {},
     "output_type": "display_data"
    }
   ],
   "source": [
    "with open(report_path, 'r') as f:\n",
    "    report_content = f.read()\n",
    "\n",
    "display(Markdown(report_content))"
   ]
  }
 ],
 "metadata": {
  "kernelspec": {
   "display_name": "Python 3",
   "language": "python",
   "name": "python3"
  },
  "language_info": {
   "codemirror_mode": {
    "name": "ipython",
    "version": 3
   },
   "file_extension": ".py",
   "mimetype": "text/x-python",
   "name": "python",
   "nbconvert_exporter": "python",
   "pygments_lexer": "ipython3",
   "version": "3.12.11"
  }
 },
 "nbformat": 4,
 "nbformat_minor": 2
}
